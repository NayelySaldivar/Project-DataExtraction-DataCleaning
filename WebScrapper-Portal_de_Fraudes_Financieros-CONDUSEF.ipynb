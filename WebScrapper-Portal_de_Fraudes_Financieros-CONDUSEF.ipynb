{
 "cells": [
  {
   "cell_type": "markdown",
   "metadata": {},
   "source": [
    "## Ironhack Data Analytics Bootcamp\n",
    "\n",
    "*Nayely Saldivar*\n",
    "\n",
    "#### Proyectos: \n",
    "* Web Scrapping y Data Cleaning\n"
   ]
  },
  {
   "cell_type": "code",
   "execution_count": 1,
   "metadata": {},
   "outputs": [],
   "source": [
    "# Importamos las librerías necesarias\n",
    "from selenium import webdriver\n",
    "from selenium.webdriver.common.keys import Keys\n",
    "import pandas as pd\n",
    "from bs4 import BeautifulSoup\n",
    "import time"
   ]
  },
  {
   "cell_type": "markdown",
   "metadata": {},
   "source": [
    "### Definimos las funciones que usaremos para obtener información del Portal de Fraudes"
   ]
  },
  {
   "cell_type": "code",
   "execution_count": 2,
   "metadata": {},
   "outputs": [],
   "source": [
    "def FirstStep():\n",
    "    \n",
    "    # Guardamos nuestro sitio en la variable url\n",
    "    url = 'https://phpapps.condusef.gob.mx/fraudes_financieros/monitor.php'\n",
    "    \n",
    "    return url"
   ]
  },
  {
   "cell_type": "code",
   "execution_count": 3,
   "metadata": {},
   "outputs": [],
   "source": [
    "def Collect_Path(browser,keys):\n",
    "    # Buscamos por nuestra llave\n",
    "    buscador = browser.find_element_by_id('searchField')\n",
    "    buscador.send_keys(keys)\n",
    "    boton = browser.find_element_by_name('busca').click()\n",
    "    time.sleep(5)\n",
    "\n",
    "    #Recolectamos todos los registros por el path de las publicaciones\n",
    "    registros=browser.find_elements_by_xpath('//*[@id=\"tab_for\"]')\n",
    "    return registros"
   ]
  },
  {
   "cell_type": "code",
   "execution_count": 4,
   "metadata": {},
   "outputs": [],
   "source": [
    "def Collect_Data(browser,registros):\n",
    "    \n",
    "    # Definimos las estructuras\n",
    "    Fecha_Reporte=[]\n",
    "    Dato_f=[]\n",
    "    Institucion_Afec=[]\n",
    "    Tipo_f=[]\n",
    "    Fuente=[]  \n",
    "    \n",
    "    # Recolectamos los datos con la estructura que encontramos\n",
    "    # ---Fechas\n",
    "    Rec_Fechas=registros[0].find_elements_by_tag_name('strong')[1:]\n",
    "    Fecha_Reporte=[Rec_Fechas[i].text for i in range(len(Rec_Fechas))]\n",
    "\n",
    "    # --- Dato fraudulento\n",
    "    Rec_Dato=registros[0].find_elements_by_css_selector('h3:nth-child(2)')\n",
    "    Dato_f=[Rec_Dato[i].text for i in range(len(Rec_Dato))]\n",
    "\n",
    "    # ---Instituciones Financieras\n",
    "    Rec_Ins=registros[0].find_elements_by_css_selector('h3:nth-child(5)')\n",
    "    Institucion_Afec=[Rec_Ins[i].text for i in range(len(Rec_Ins))]\n",
    "\n",
    "    # --- El tipo de fraude\n",
    "    Rec_Tipo=registros[0].find_elements_by_css_selector('h4:nth-child(8)')\n",
    "    Tipo_f=[Rec_Tipo[i].text for i in range(len(Rec_Tipo))]\n",
    "\n",
    "    # --- La institución que valida el fraude\n",
    "    Rec_fuente=registros[0].find_elements_by_css_selector('h4:nth-child(11)')\n",
    "    Fuente=[Rec_fuente[i].text for i in range(len(Rec_fuente))]\n",
    "    \n",
    "    # Creamos el dataframe con la información recolectada\n",
    "    data=[Fecha_Reporte,Dato_f,Institucion_Afec,Tipo_f,Fuente]\n",
    "\n",
    "    return data"
   ]
  },
  {
   "cell_type": "code",
   "execution_count": 5,
   "metadata": {},
   "outputs": [],
   "source": [
    "def Create_DF(data):\n",
    "    \n",
    "#   Creamos el dataframe con la información recolectada\n",
    "    Base=pd.DataFrame(data).transpose()\n",
    "    Base.columns=['Fecha','Dato Fraudulento','Institucion Afectada','Tipo de Fraude','Validacion']\n",
    "\n",
    "    return Base"
   ]
  },
  {
   "cell_type": "markdown",
   "metadata": {},
   "source": [
    "Se define la función principal del scrapper : **Portal_Fraude_Scrapper**"
   ]
  },
  {
   "cell_type": "code",
   "execution_count": 6,
   "metadata": {},
   "outputs": [],
   "source": [
    "def Portal_Fraude_Scrapper(key):\n",
    "    \n",
    "    url=FirstStep()\n",
    "    \n",
    "    # Iniciamos el driver\n",
    "    browser = webdriver.Chrome()\n",
    "    browser.get(url)\n",
    "    \n",
    "    time.sleep(5)\n",
    "    \n",
    "    # Iniciamos las funciones\n",
    "    reports=Collect_Path(browser,key)\n",
    "    print(f'Conexión completa, buscando:{key}')\n",
    "    time.sleep(1)\n",
    "    \n",
    "    data=Collect_Data(browser,reports)\n",
    "    print('Recolección de datos completa')\n",
    "    time.sleep(1)\n",
    "    \n",
    "    df_base=Create_DF(data)\n",
    "    print(f'Se completó el proceso, key:{key}')\n",
    "    \n",
    "    # Cerramos el driver    \n",
    "    browser.quit()\n",
    "    \n",
    "    return df_base"
   ]
  },
  {
   "cell_type": "markdown",
   "metadata": {},
   "source": [
    "### Recolectamos información por las llaves que nos interesan"
   ]
  },
  {
   "cell_type": "code",
   "execution_count": 7,
   "metadata": {},
   "outputs": [],
   "source": [
    "# Con base a mi proyecto final, recolectaré la información que arroje buscar 'face' y 'redes' en el sitio\n",
    "keys=['face','redes']"
   ]
  },
  {
   "cell_type": "code",
   "execution_count": 8,
   "metadata": {},
   "outputs": [
    {
     "name": "stdout",
     "output_type": "stream",
     "text": [
      "Conexión completa, buscando:face\n",
      "Recolección de datos completa\n",
      "Se completó el proceso, key:face\n"
     ]
    },
    {
     "data": {
      "text/html": [
       "<div>\n",
       "<style scoped>\n",
       "    .dataframe tbody tr th:only-of-type {\n",
       "        vertical-align: middle;\n",
       "    }\n",
       "\n",
       "    .dataframe tbody tr th {\n",
       "        vertical-align: top;\n",
       "    }\n",
       "\n",
       "    .dataframe thead th {\n",
       "        text-align: right;\n",
       "    }\n",
       "</style>\n",
       "<table border=\"1\" class=\"dataframe\">\n",
       "  <thead>\n",
       "    <tr style=\"text-align: right;\">\n",
       "      <th></th>\n",
       "      <th>Fecha</th>\n",
       "      <th>Dato Fraudulento</th>\n",
       "      <th>Institucion Afectada</th>\n",
       "      <th>Tipo de Fraude</th>\n",
       "      <th>Validacion</th>\n",
       "    </tr>\n",
       "  </thead>\n",
       "  <tbody>\n",
       "    <tr>\n",
       "      <th>0</th>\n",
       "      <td>2020-11-09</td>\n",
       "      <td>Facebook: Impulso Economico</td>\n",
       "      <td>Impulso Economico Activo, S.A. de C.V., SOFOM,...</td>\n",
       "      <td>Suplantación de Institución Financiera</td>\n",
       "      <td>INSTITUCIONES FINANCIERAS</td>\n",
       "    </tr>\n",
       "    <tr>\n",
       "      <th>1</th>\n",
       "      <td>2020-11-05</td>\n",
       "      <td>Facebook: Creavanza</td>\n",
       "      <td>Grupo Asesor Creavanza, S.A.P.I. de C.V., SOFO...</td>\n",
       "      <td>Suplantación de Institución Financiera</td>\n",
       "      <td>INSTITUCIONES FINANCIERAS</td>\n",
       "    </tr>\n",
       "    <tr>\n",
       "      <th>2</th>\n",
       "      <td>2020-11-05</td>\n",
       "      <td>Facebook: Cre-a-vanza</td>\n",
       "      <td>Grupo Asesor Creavanza, S.A.P.I. de C.V., SOFO...</td>\n",
       "      <td>Suplantación de Institución Financiera</td>\n",
       "      <td>INSTITUCIONES FINANCIERAS</td>\n",
       "    </tr>\n",
       "    <tr>\n",
       "      <th>3</th>\n",
       "      <td>2020-10-29</td>\n",
       "      <td>Facebook: CrediLeal</td>\n",
       "      <td>Emprende Capital, S.A.P.I. de C.V., SOFOM, E.N.R.</td>\n",
       "      <td>Suplantación de Institución Financiera</td>\n",
       "      <td>INSTITUCIONES FINANCIERAS</td>\n",
       "    </tr>\n",
       "    <tr>\n",
       "      <th>4</th>\n",
       "      <td>2020-10-28</td>\n",
       "      <td>Facebook: Patrimoniales, S.A.P.I. de CV SOFOM ENR</td>\n",
       "      <td>Soluciones Patrimoniales Cufrisa, S.A. de C.V....</td>\n",
       "      <td>Suplantación de Institución Financiera</td>\n",
       "      <td>INSTITUCIONES FINANCIERAS</td>\n",
       "    </tr>\n",
       "  </tbody>\n",
       "</table>\n",
       "</div>"
      ],
      "text/plain": [
       "        Fecha                                   Dato Fraudulento  \\\n",
       "0  2020-11-09                        Facebook: Impulso Economico   \n",
       "1  2020-11-05                                Facebook: Creavanza   \n",
       "2  2020-11-05                              Facebook: Cre-a-vanza   \n",
       "3  2020-10-29                                Facebook: CrediLeal   \n",
       "4  2020-10-28  Facebook: Patrimoniales, S.A.P.I. de CV SOFOM ENR   \n",
       "\n",
       "                                Institucion Afectada  \\\n",
       "0  Impulso Economico Activo, S.A. de C.V., SOFOM,...   \n",
       "1  Grupo Asesor Creavanza, S.A.P.I. de C.V., SOFO...   \n",
       "2  Grupo Asesor Creavanza, S.A.P.I. de C.V., SOFO...   \n",
       "3  Emprende Capital, S.A.P.I. de C.V., SOFOM, E.N.R.   \n",
       "4  Soluciones Patrimoniales Cufrisa, S.A. de C.V....   \n",
       "\n",
       "                           Tipo de Fraude                 Validacion  \n",
       "0  Suplantación de Institución Financiera  INSTITUCIONES FINANCIERAS  \n",
       "1  Suplantación de Institución Financiera  INSTITUCIONES FINANCIERAS  \n",
       "2  Suplantación de Institución Financiera  INSTITUCIONES FINANCIERAS  \n",
       "3  Suplantación de Institución Financiera  INSTITUCIONES FINANCIERAS  \n",
       "4  Suplantación de Institución Financiera  INSTITUCIONES FINANCIERAS  "
      ]
     },
     "execution_count": 8,
     "metadata": {},
     "output_type": "execute_result"
    }
   ],
   "source": [
    "df_face=Portal_Fraude_Scrapper(keys[0])\n",
    "df_face.head()"
   ]
  },
  {
   "cell_type": "code",
   "execution_count": 10,
   "metadata": {},
   "outputs": [
    {
     "name": "stdout",
     "output_type": "stream",
     "text": [
      "Conexión completa, buscando:redes\n",
      "Recolección de datos completa\n",
      "Se completó el proceso, key:redes\n"
     ]
    },
    {
     "data": {
      "text/html": [
       "<div>\n",
       "<style scoped>\n",
       "    .dataframe tbody tr th:only-of-type {\n",
       "        vertical-align: middle;\n",
       "    }\n",
       "\n",
       "    .dataframe tbody tr th {\n",
       "        vertical-align: top;\n",
       "    }\n",
       "\n",
       "    .dataframe thead th {\n",
       "        text-align: right;\n",
       "    }\n",
       "</style>\n",
       "<table border=\"1\" class=\"dataframe\">\n",
       "  <thead>\n",
       "    <tr style=\"text-align: right;\">\n",
       "      <th></th>\n",
       "      <th>Fecha</th>\n",
       "      <th>Dato Fraudulento</th>\n",
       "      <th>Institucion Afectada</th>\n",
       "      <th>Tipo de Fraude</th>\n",
       "      <th>Validacion</th>\n",
       "    </tr>\n",
       "  </thead>\n",
       "  <tbody>\n",
       "    <tr>\n",
       "      <th>0</th>\n",
       "      <td>2020-02-28</td>\n",
       "      <td>@BBVARe_bmx</td>\n",
       "      <td>BBVA Bancomer, S.A., Institución de Banca Múlt...</td>\n",
       "      <td>Redes sociales</td>\n",
       "      <td>Portal de Fraudes Financieros</td>\n",
       "    </tr>\n",
       "    <tr>\n",
       "      <th>1</th>\n",
       "      <td>2020-02-27</td>\n",
       "      <td>https://www.facebook.com/103074507769643/posts...</td>\n",
       "      <td>Caja Solidaria San Sebastián del Oeste, S.C. d...</td>\n",
       "      <td>Redes Sociales</td>\n",
       "      <td>INSTITUCIONES FINANCIERAS</td>\n",
       "    </tr>\n",
       "    <tr>\n",
       "      <th>2</th>\n",
       "      <td>2020-02-27</td>\n",
       "      <td>https://www.facebook.com/naomi.altunar.7?fref=...</td>\n",
       "      <td>Crediclub, S.A. de C.V., S.F.P.</td>\n",
       "      <td>Redes sociales</td>\n",
       "      <td>Portal de Fraudes Financieros</td>\n",
       "    </tr>\n",
       "    <tr>\n",
       "      <th>3</th>\n",
       "      <td>2020-02-24</td>\n",
       "      <td>https://www.facebook.com/colectivofinancierona...</td>\n",
       "      <td>Sin dato preciso</td>\n",
       "      <td>Redes sociales</td>\n",
       "      <td>Portal de Fraudes Financieros</td>\n",
       "    </tr>\n",
       "    <tr>\n",
       "      <th>4</th>\n",
       "      <td>2020-02-20</td>\n",
       "      <td>https://www.auditoriacondusef.com</td>\n",
       "      <td>CONDUSEF</td>\n",
       "      <td>Página de internet (Pharming)</td>\n",
       "      <td>Redes Sociales Twitter CONDUSEF</td>\n",
       "    </tr>\n",
       "  </tbody>\n",
       "</table>\n",
       "</div>"
      ],
      "text/plain": [
       "        Fecha                                   Dato Fraudulento  \\\n",
       "0  2020-02-28                                        @BBVARe_bmx   \n",
       "1  2020-02-27  https://www.facebook.com/103074507769643/posts...   \n",
       "2  2020-02-27  https://www.facebook.com/naomi.altunar.7?fref=...   \n",
       "3  2020-02-24  https://www.facebook.com/colectivofinancierona...   \n",
       "4  2020-02-20                  https://www.auditoriacondusef.com   \n",
       "\n",
       "                                Institucion Afectada  \\\n",
       "0  BBVA Bancomer, S.A., Institución de Banca Múlt...   \n",
       "1  Caja Solidaria San Sebastián del Oeste, S.C. d...   \n",
       "2                    Crediclub, S.A. de C.V., S.F.P.   \n",
       "3                                   Sin dato preciso   \n",
       "4                                           CONDUSEF   \n",
       "\n",
       "                  Tipo de Fraude                       Validacion  \n",
       "0                 Redes sociales    Portal de Fraudes Financieros  \n",
       "1                 Redes Sociales        INSTITUCIONES FINANCIERAS  \n",
       "2                 Redes sociales    Portal de Fraudes Financieros  \n",
       "3                 Redes sociales    Portal de Fraudes Financieros  \n",
       "4  Página de internet (Pharming)  Redes Sociales Twitter CONDUSEF  "
      ]
     },
     "execution_count": 10,
     "metadata": {},
     "output_type": "execute_result"
    }
   ],
   "source": [
    "df_redes=Portal_Fraude_Scrapper(keys[1])\n",
    "df_redes.head()"
   ]
  },
  {
   "cell_type": "markdown",
   "metadata": {},
   "source": [
    "### Definimos las funciones que usaremos para limpiar la información obtenida"
   ]
  },
  {
   "cell_type": "code",
   "execution_count": 11,
   "metadata": {},
   "outputs": [],
   "source": [
    "def ConcatDF(df,df1):\n",
    "    df_complete=pd.concat([df,df1],axis=0)\n",
    "    print('Elementos en df_1:',len(df))\n",
    "    print('Elementos en df_2:',len(df1))\n",
    "    print('Elementos totales en el nuevo df:',len(df_complete))\n",
    "    return df_complete"
   ]
  },
  {
   "cell_type": "code",
   "execution_count": 12,
   "metadata": {},
   "outputs": [],
   "source": [
    "def limpiar_col(x):\n",
    "    reemplazar = [('-', ''), ('á', 'a'), ('é', 'e'),\n",
    "                  ('ó', 'o'), ('ú','u'), ('í','i')]\n",
    "    for tupla in reemplazar:\n",
    "        x = x.lower().replace(tupla[0], tupla[1])\n",
    "    return x"
   ]
  },
  {
   "cell_type": "code",
   "execution_count": 14,
   "metadata": {},
   "outputs": [],
   "source": [
    "def CleaningDF(df):\n",
    "    \n",
    "    if df.isnull().sum().sum() !=0:\n",
    "        df.fillna('sin registro')\n",
    "    \n",
    "    # Transformamos a minúsculas y eliminamos acentos    \n",
    "    for col in df.columns[1:]:\n",
    "        df[col] = df[col].apply(limpiar_col)\n",
    "    \n",
    "    # Eliminamos los registros duplicados\n",
    "    antes=len(df)\n",
    "    df_complete = df.drop_duplicates()\n",
    "    despues=len(df_complete)\n",
    "    print('Elementos duplicados eliminados:',(antes-despues))\n",
    "    \n",
    "    # Creamos una columna de trimestres  \n",
    "    df_complete['Fecha']=pd.to_datetime(df_complete['Fecha'])\n",
    "    df_complete['Q']=df_complete['Fecha'].dt.to_period('Q')\n",
    "    return df_complete"
   ]
  },
  {
   "cell_type": "code",
   "execution_count": 15,
   "metadata": {},
   "outputs": [],
   "source": [
    "def FilteringDF(df):\n",
    "    \n",
    "    df_filtered=df[(df['Tipo de Fraude']==('redes sociales')) | \n",
    "                   (df['Tipo de Fraude']=='suplantacion de institucion financiera')]\n",
    "   \n",
    "    print('Registros por Fraudes en Redes Sociales:',len(df_filtered))\n",
    "    \n",
    "    return df_filtered"
   ]
  },
  {
   "cell_type": "markdown",
   "metadata": {},
   "source": [
    "Se define la función principal del scrapper : **Portal_Fraude_CleaningPipe**"
   ]
  },
  {
   "cell_type": "code",
   "execution_count": 16,
   "metadata": {},
   "outputs": [],
   "source": [
    "def Portal_Fraude_CleaningPipe(df,df1):\n",
    "    \n",
    "    df_complete=ConcatDF(df,df1)\n",
    "    time.sleep(1)\n",
    "    \n",
    "    df_clean=CleaningDF(df_complete)\n",
    "    time.sleep(1)\n",
    "    \n",
    "    df_filtered=FilteringDF(df_clean)\n",
    "    time.sleep(1)\n",
    "    \n",
    "    # Exportamos el reporte en csv    \n",
    "    df_filtered.to_csv(f'MonitoreoCONDUSEF_Keys({keys[0].capitalize()}-{keys[1].capitalize()}).csv',index=False)\n",
    "    time.sleep(1)\n",
    "    \n",
    "    print('Se exportó el reporte en CSV :)')\n",
    "\n",
    "    return df_filtered"
   ]
  },
  {
   "cell_type": "markdown",
   "metadata": {},
   "source": [
    "### Unimos las bases, limpiamos los datos y unificamos la información"
   ]
  },
  {
   "cell_type": "code",
   "execution_count": 17,
   "metadata": {},
   "outputs": [
    {
     "name": "stdout",
     "output_type": "stream",
     "text": [
      "Elementos en df_1: 97\n",
      "Elementos en df_2: 198\n",
      "Elementos totales en el nuevo df: 295\n",
      "Elementos duplicados eliminados: 70\n"
     ]
    },
    {
     "name": "stderr",
     "output_type": "stream",
     "text": [
      "<ipython-input-14-24e4d99c9b1e>:17: SettingWithCopyWarning: \n",
      "A value is trying to be set on a copy of a slice from a DataFrame.\n",
      "Try using .loc[row_indexer,col_indexer] = value instead\n",
      "\n",
      "See the caveats in the documentation: https://pandas.pydata.org/pandas-docs/stable/user_guide/indexing.html#returning-a-view-versus-a-copy\n",
      "  df_complete['Fecha']=pd.to_datetime(df_complete['Fecha'])\n",
      "<ipython-input-14-24e4d99c9b1e>:18: SettingWithCopyWarning: \n",
      "A value is trying to be set on a copy of a slice from a DataFrame.\n",
      "Try using .loc[row_indexer,col_indexer] = value instead\n",
      "\n",
      "See the caveats in the documentation: https://pandas.pydata.org/pandas-docs/stable/user_guide/indexing.html#returning-a-view-versus-a-copy\n",
      "  df_complete['Q']=df_complete['Fecha'].dt.to_period('Q')\n"
     ]
    },
    {
     "name": "stdout",
     "output_type": "stream",
     "text": [
      "Registros por Fraudes en Redes Sociales: 202\n",
      "Se exportó el reporte en CSV :)\n"
     ]
    }
   ],
   "source": [
    "df=Portal_Fraude_CleaningPipe(df_face,df_redes)"
   ]
  },
  {
   "cell_type": "markdown",
   "metadata": {},
   "source": [
    "#### Realizamos algunas agregaciones y tablas"
   ]
  },
  {
   "cell_type": "code",
   "execution_count": 18,
   "metadata": {},
   "outputs": [
    {
     "data": {
      "text/html": [
       "<div>\n",
       "<style scoped>\n",
       "    .dataframe tbody tr th:only-of-type {\n",
       "        vertical-align: middle;\n",
       "    }\n",
       "\n",
       "    .dataframe tbody tr th {\n",
       "        vertical-align: top;\n",
       "    }\n",
       "\n",
       "    .dataframe thead th {\n",
       "        text-align: right;\n",
       "    }\n",
       "</style>\n",
       "<table border=\"1\" class=\"dataframe\">\n",
       "  <thead>\n",
       "    <tr style=\"text-align: right;\">\n",
       "      <th></th>\n",
       "      <th>Fecha</th>\n",
       "      <th>Dato Fraudulento</th>\n",
       "      <th>Institucion Afectada</th>\n",
       "      <th>Tipo de Fraude</th>\n",
       "      <th>Validacion</th>\n",
       "      <th>Q</th>\n",
       "    </tr>\n",
       "  </thead>\n",
       "  <tbody>\n",
       "    <tr>\n",
       "      <th>0</th>\n",
       "      <td>2020-11-09</td>\n",
       "      <td>facebook: impulso economico</td>\n",
       "      <td>impulso economico activo, s.a. de c.v., sofom,...</td>\n",
       "      <td>suplantacion de institucion financiera</td>\n",
       "      <td>instituciones financieras</td>\n",
       "      <td>2020Q4</td>\n",
       "    </tr>\n",
       "    <tr>\n",
       "      <th>1</th>\n",
       "      <td>2020-11-05</td>\n",
       "      <td>facebook: creavanza</td>\n",
       "      <td>grupo asesor creavanza, s.a.p.i. de c.v., sofo...</td>\n",
       "      <td>suplantacion de institucion financiera</td>\n",
       "      <td>instituciones financieras</td>\n",
       "      <td>2020Q4</td>\n",
       "    </tr>\n",
       "    <tr>\n",
       "      <th>3</th>\n",
       "      <td>2020-10-29</td>\n",
       "      <td>facebook: credileal</td>\n",
       "      <td>emprende capital, s.a.p.i. de c.v., sofom, e.n.r.</td>\n",
       "      <td>suplantacion de institucion financiera</td>\n",
       "      <td>instituciones financieras</td>\n",
       "      <td>2020Q4</td>\n",
       "    </tr>\n",
       "    <tr>\n",
       "      <th>4</th>\n",
       "      <td>2020-10-28</td>\n",
       "      <td>facebook: patrimoniales, s.a.p.i. de cv sofom enr</td>\n",
       "      <td>soluciones patrimoniales cufrisa, s.a. de c.v....</td>\n",
       "      <td>suplantacion de institucion financiera</td>\n",
       "      <td>instituciones financieras</td>\n",
       "      <td>2020Q4</td>\n",
       "    </tr>\n",
       "    <tr>\n",
       "      <th>5</th>\n",
       "      <td>2020-10-16</td>\n",
       "      <td>facebook: financiera logros economicos s.a de c.v</td>\n",
       "      <td>grt logros, s.a. de c.v., sofom, e.n.r.</td>\n",
       "      <td>suplantacion de institucion financiera</td>\n",
       "      <td>instituciones financieras</td>\n",
       "      <td>2020Q4</td>\n",
       "    </tr>\n",
       "  </tbody>\n",
       "</table>\n",
       "</div>"
      ],
      "text/plain": [
       "       Fecha                                   Dato Fraudulento  \\\n",
       "0 2020-11-09                        facebook: impulso economico   \n",
       "1 2020-11-05                                facebook: creavanza   \n",
       "3 2020-10-29                                facebook: credileal   \n",
       "4 2020-10-28  facebook: patrimoniales, s.a.p.i. de cv sofom enr   \n",
       "5 2020-10-16  facebook: financiera logros economicos s.a de c.v   \n",
       "\n",
       "                                Institucion Afectada  \\\n",
       "0  impulso economico activo, s.a. de c.v., sofom,...   \n",
       "1  grupo asesor creavanza, s.a.p.i. de c.v., sofo...   \n",
       "3  emprende capital, s.a.p.i. de c.v., sofom, e.n.r.   \n",
       "4  soluciones patrimoniales cufrisa, s.a. de c.v....   \n",
       "5            grt logros, s.a. de c.v., sofom, e.n.r.   \n",
       "\n",
       "                           Tipo de Fraude                 Validacion       Q  \n",
       "0  suplantacion de institucion financiera  instituciones financieras  2020Q4  \n",
       "1  suplantacion de institucion financiera  instituciones financieras  2020Q4  \n",
       "3  suplantacion de institucion financiera  instituciones financieras  2020Q4  \n",
       "4  suplantacion de institucion financiera  instituciones financieras  2020Q4  \n",
       "5  suplantacion de institucion financiera  instituciones financieras  2020Q4  "
      ]
     },
     "execution_count": 18,
     "metadata": {},
     "output_type": "execute_result"
    }
   ],
   "source": [
    "df.head()"
   ]
  },
  {
   "cell_type": "code",
   "execution_count": 19,
   "metadata": {},
   "outputs": [
    {
     "data": {
      "text/plain": [
       "['Valores unicos en Dato Fraudulento: 178',\n",
       " 'Valores unicos en Institucion Afectada: 100',\n",
       " 'Valores unicos en Tipo de Fraude: 2',\n",
       " 'Valores unicos en Validacion: 3']"
      ]
     },
     "execution_count": 19,
     "metadata": {},
     "output_type": "execute_result"
    }
   ],
   "source": [
    "categorical_columns=[c for c in df.columns if df[c].dtype==\"object\"]\n",
    "[f\"Valores unicos en {col}: {len(df[col].unique())}\" for col in categorical_columns ]"
   ]
  },
  {
   "cell_type": "code",
   "execution_count": 20,
   "metadata": {},
   "outputs": [
    {
     "data": {
      "text/html": [
       "<div>\n",
       "<style scoped>\n",
       "    .dataframe tbody tr th:only-of-type {\n",
       "        vertical-align: middle;\n",
       "    }\n",
       "\n",
       "    .dataframe tbody tr th {\n",
       "        vertical-align: top;\n",
       "    }\n",
       "\n",
       "    .dataframe thead th {\n",
       "        text-align: right;\n",
       "    }\n",
       "</style>\n",
       "<table border=\"1\" class=\"dataframe\">\n",
       "  <thead>\n",
       "    <tr style=\"text-align: right;\">\n",
       "      <th></th>\n",
       "      <th>Dato Fraudulento</th>\n",
       "    </tr>\n",
       "    <tr>\n",
       "      <th>Validacion</th>\n",
       "      <th></th>\n",
       "    </tr>\n",
       "  </thead>\n",
       "  <tbody>\n",
       "    <tr>\n",
       "      <th>condusef</th>\n",
       "      <td>20</td>\n",
       "    </tr>\n",
       "    <tr>\n",
       "      <th>instituciones financieras</th>\n",
       "      <td>53</td>\n",
       "    </tr>\n",
       "    <tr>\n",
       "      <th>portal de fraudes financieros</th>\n",
       "      <td>129</td>\n",
       "    </tr>\n",
       "  </tbody>\n",
       "</table>\n",
       "</div>"
      ],
      "text/plain": [
       "                               Dato Fraudulento\n",
       "Validacion                                     \n",
       "condusef                                     20\n",
       "instituciones financieras                    53\n",
       "portal de fraudes financieros               129"
      ]
     },
     "execution_count": 20,
     "metadata": {},
     "output_type": "execute_result"
    }
   ],
   "source": [
    "Fuentes_Validacion = (\n",
    "    df\n",
    "      .groupby([ \"Validacion\"])\n",
    "      [[\"Dato Fraudulento\"]]\n",
    "      .count()\n",
    ")\n",
    "Fuentes_Validacion"
   ]
  },
  {
   "cell_type": "code",
   "execution_count": 21,
   "metadata": {},
   "outputs": [
    {
     "data": {
      "text/html": [
       "<div>\n",
       "<style scoped>\n",
       "    .dataframe tbody tr th:only-of-type {\n",
       "        vertical-align: middle;\n",
       "    }\n",
       "\n",
       "    .dataframe tbody tr th {\n",
       "        vertical-align: top;\n",
       "    }\n",
       "\n",
       "    .dataframe thead th {\n",
       "        text-align: right;\n",
       "    }\n",
       "</style>\n",
       "<table border=\"1\" class=\"dataframe\">\n",
       "  <thead>\n",
       "    <tr style=\"text-align: right;\">\n",
       "      <th></th>\n",
       "      <th>Dato Fraudulento</th>\n",
       "    </tr>\n",
       "    <tr>\n",
       "      <th>Tipo de Fraude</th>\n",
       "      <th></th>\n",
       "    </tr>\n",
       "  </thead>\n",
       "  <tbody>\n",
       "    <tr>\n",
       "      <th>redes sociales</th>\n",
       "      <td>186</td>\n",
       "    </tr>\n",
       "    <tr>\n",
       "      <th>suplantacion de institucion financiera</th>\n",
       "      <td>16</td>\n",
       "    </tr>\n",
       "  </tbody>\n",
       "</table>\n",
       "</div>"
      ],
      "text/plain": [
       "                                        Dato Fraudulento\n",
       "Tipo de Fraude                                          \n",
       "redes sociales                                       186\n",
       "suplantacion de institucion financiera                16"
      ]
     },
     "execution_count": 21,
     "metadata": {},
     "output_type": "execute_result"
    }
   ],
   "source": [
    "Tipo_Fraude = (\n",
    "    df\n",
    "      .groupby([ \"Tipo de Fraude\"])\n",
    "      [[\"Dato Fraudulento\"]]\n",
    "      .count()\n",
    ")\n",
    "Tipo_Fraude"
   ]
  },
  {
   "cell_type": "code",
   "execution_count": 22,
   "metadata": {},
   "outputs": [
    {
     "data": {
      "text/html": [
       "<div>\n",
       "<style scoped>\n",
       "    .dataframe tbody tr th:only-of-type {\n",
       "        vertical-align: middle;\n",
       "    }\n",
       "\n",
       "    .dataframe tbody tr th {\n",
       "        vertical-align: top;\n",
       "    }\n",
       "\n",
       "    .dataframe thead th {\n",
       "        text-align: right;\n",
       "    }\n",
       "</style>\n",
       "<table border=\"1\" class=\"dataframe\">\n",
       "  <thead>\n",
       "    <tr style=\"text-align: right;\">\n",
       "      <th></th>\n",
       "      <th>Dato Fraudulento</th>\n",
       "    </tr>\n",
       "    <tr>\n",
       "      <th>Q</th>\n",
       "      <th></th>\n",
       "    </tr>\n",
       "  </thead>\n",
       "  <tbody>\n",
       "    <tr>\n",
       "      <th>2018Q1</th>\n",
       "      <td>10</td>\n",
       "    </tr>\n",
       "    <tr>\n",
       "      <th>2018Q2</th>\n",
       "      <td>4</td>\n",
       "    </tr>\n",
       "    <tr>\n",
       "      <th>2018Q3</th>\n",
       "      <td>3</td>\n",
       "    </tr>\n",
       "    <tr>\n",
       "      <th>2018Q4</th>\n",
       "      <td>74</td>\n",
       "    </tr>\n",
       "    <tr>\n",
       "      <th>2019Q1</th>\n",
       "      <td>41</td>\n",
       "    </tr>\n",
       "    <tr>\n",
       "      <th>2019Q2</th>\n",
       "      <td>14</td>\n",
       "    </tr>\n",
       "    <tr>\n",
       "      <th>2019Q3</th>\n",
       "      <td>4</td>\n",
       "    </tr>\n",
       "    <tr>\n",
       "      <th>2019Q4</th>\n",
       "      <td>23</td>\n",
       "    </tr>\n",
       "    <tr>\n",
       "      <th>2020Q1</th>\n",
       "      <td>13</td>\n",
       "    </tr>\n",
       "    <tr>\n",
       "      <th>2020Q3</th>\n",
       "      <td>11</td>\n",
       "    </tr>\n",
       "    <tr>\n",
       "      <th>2020Q4</th>\n",
       "      <td>5</td>\n",
       "    </tr>\n",
       "  </tbody>\n",
       "</table>\n",
       "</div>"
      ],
      "text/plain": [
       "        Dato Fraudulento\n",
       "Q                       \n",
       "2018Q1                10\n",
       "2018Q2                 4\n",
       "2018Q3                 3\n",
       "2018Q4                74\n",
       "2019Q1                41\n",
       "2019Q2                14\n",
       "2019Q3                 4\n",
       "2019Q4                23\n",
       "2020Q1                13\n",
       "2020Q3                11\n",
       "2020Q4                 5"
      ]
     },
     "execution_count": 22,
     "metadata": {},
     "output_type": "execute_result"
    }
   ],
   "source": [
    "Repor_Trimestral = (\n",
    "    df\n",
    "      .groupby([ \"Q\"])\n",
    "      [[\"Dato Fraudulento\"]]\n",
    "      .count()\n",
    ")\n",
    "Repor_Trimestral"
   ]
  },
  {
   "cell_type": "code",
   "execution_count": 24,
   "metadata": {},
   "outputs": [
    {
     "data": {
      "text/html": [
       "<div>\n",
       "<style scoped>\n",
       "    .dataframe tbody tr th:only-of-type {\n",
       "        vertical-align: middle;\n",
       "    }\n",
       "\n",
       "    .dataframe tbody tr th {\n",
       "        vertical-align: top;\n",
       "    }\n",
       "\n",
       "    .dataframe thead th {\n",
       "        text-align: right;\n",
       "    }\n",
       "</style>\n",
       "<table border=\"1\" class=\"dataframe\">\n",
       "  <thead>\n",
       "    <tr style=\"text-align: right;\">\n",
       "      <th></th>\n",
       "      <th></th>\n",
       "      <th>reportes</th>\n",
       "    </tr>\n",
       "    <tr>\n",
       "      <th>Tipo de Fraude</th>\n",
       "      <th>Validacion</th>\n",
       "      <th></th>\n",
       "    </tr>\n",
       "  </thead>\n",
       "  <tbody>\n",
       "    <tr>\n",
       "      <th rowspan=\"3\" valign=\"top\">redes sociales</th>\n",
       "      <th>condusef</th>\n",
       "      <td>20</td>\n",
       "    </tr>\n",
       "    <tr>\n",
       "      <th>instituciones financieras</th>\n",
       "      <td>37</td>\n",
       "    </tr>\n",
       "    <tr>\n",
       "      <th>portal de fraudes financieros</th>\n",
       "      <td>129</td>\n",
       "    </tr>\n",
       "    <tr>\n",
       "      <th>suplantacion de institucion financiera</th>\n",
       "      <th>instituciones financieras</th>\n",
       "      <td>16</td>\n",
       "    </tr>\n",
       "  </tbody>\n",
       "</table>\n",
       "</div>"
      ],
      "text/plain": [
       "                                                                      reportes\n",
       "Tipo de Fraude                         Validacion                             \n",
       "redes sociales                         condusef                             20\n",
       "                                       instituciones financieras            37\n",
       "                                       portal de fraudes financieros       129\n",
       "suplantacion de institucion financiera instituciones financieras            16"
      ]
     },
     "execution_count": 24,
     "metadata": {},
     "output_type": "execute_result"
    }
   ],
   "source": [
    "Fraude_e_Institucion = (\n",
    "    df\n",
    "      .groupby([\"Tipo de Fraude\",\"Validacion\"])\n",
    "      .agg(\n",
    "          reportes = (\"Dato Fraudulento\", \"count\"))\n",
    "      )\n",
    "Fraude_e_Institucion"
   ]
  }
 ],
 "metadata": {
  "kernelspec": {
   "display_name": "Python 3",
   "language": "python",
   "name": "python3"
  },
  "language_info": {
   "codemirror_mode": {
    "name": "ipython",
    "version": 3
   },
   "file_extension": ".py",
   "mimetype": "text/x-python",
   "name": "python",
   "nbconvert_exporter": "python",
   "pygments_lexer": "ipython3",
   "version": "3.8.3"
  }
 },
 "nbformat": 4,
 "nbformat_minor": 4
}
